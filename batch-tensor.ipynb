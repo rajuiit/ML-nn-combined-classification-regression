{
 "cells": [
  {
   "cell_type": "markdown",
   "metadata": {},
   "source": [
    "\n",
    "A tensor is a mathematical object that generalizes the concept of scalars, vectors, and matrices to higher dimensions. In the context of machine learning and deep learning, tensors are multidimensional arrays that are used to represent data and mathematical operations on that data. Tensors are fundamental to the operations of frameworks like TensorFlow and PyTorch.\n",
    "\n",
    "##Basic Types of Tensors\n",
    "\n",
    "    Scalar: A single number, represented as a tensor with no dimensions (0-dimensional tensor).\n",
    "    Example: 5\n",
    "\n",
    "    Vector: A one-dimensional array of numbers (1-dimensional tensor).\n",
    "\n",
    "    Example: \n",
    "    [1,2,3]\n",
    "\n",
    "    Matrix: A two-dimensional array of numbers (2-dimensional tensor).\n",
    "    Example: \n",
    "    [1 2 3 4 5 6]\n",
    "    [1 4 2 5 3 6]\n",
    "\n",
    "    Higher-Dimensional Tensors: Arrays with three or more dimensions.\n",
    "\n",
    "    Example (3D tensor): A batch of images represented as a tensor of shape \n",
    "    (batch_size,height,width).\n",
    "\n",
    "##Key Properties\n",
    "\n",
    "    Rank: The number of dimensions a tensor has. For example, a matrix has a rank of 2, a vector has a rank of 1, and a scalar has a rank of 0.\n",
    "\n",
    "    Shape: The size of each dimension. For instance, a matrix with 3 rows and 4 columns has a shape of \n",
    "    (3,4).\n",
    "\n",
    "    Data Type: The type of elements stored in the tensor, such as float32, int32, etc.\n",
    "\n",
    "\n",
    "In deep learning, especially in computer vision tasks, batches of images are represented as multi-dimensional tensors. These tensors encapsulate the image data in a format that is efficient for computation and compatible with neural network architectures. Here's a breakdown of how batches of images are typically represented:\n",
    "\n",
    "##Dimensions of an Image Batch Tensor:\n",
    "    An image batch tensor usually has four dimensions:\n",
    "\n",
    "    Batch Size: The number of images in the batch.\n",
    "    Height: The height of each image.\n",
    "    Width: The width of each image.\n",
    "    Channels: The number of color channels in each image (e.g., 3 for RGB images, 1 for grayscale images).\n",
    "    Shape of the Tensor\n",
    "    The shape of the tensor representing a batch of images is typically (batch_size, height, width, channels).\n",
    "\n",
    "    Example: Representing a Batch of RGB Images\n",
    "    Let's assume we have a batch of 32 RGB images, each with a height of 128 pixels and a width of 128 pixels. The tensor shape would be (32, 128, 128, 3)."
   ]
  },
  {
   "cell_type": "code",
   "execution_count": 4,
   "metadata": {},
   "outputs": [
    {
     "name": "stdout",
     "output_type": "stream",
     "text": [
      "Shape of the image batch tensor: (32, 128, 128, 3)\n"
     ]
    }
   ],
   "source": [
    "#Creating and Manipulating Batches of Images in TensorFlow\n",
    "#Here’s how you can create and manipulate batches of images in TensorFlow:\n",
    "\n",
    "\n",
    "import tensorflow as tf\n",
    "\n",
    "# Example: Create a batch of 32 images, each of 128x128 pixels with 3 channels (RGB)\n",
    "batch_size = 32\n",
    "height = 128\n",
    "width = 128\n",
    "channels = 3\n",
    "\n",
    "# Create a random tensor with the shape (batch_size, height, width, channels)\n",
    "images = tf.random.normal((batch_size, height, width, channels))\n",
    "\n",
    "# Print the shape of the tensor\n",
    "print(\"Shape of the image batch tensor:\", images.shape)"
   ]
  },
  {
   "cell_type": "code",
   "execution_count": 1,
   "metadata": {},
   "outputs": [
    {
     "name": "stdout",
     "output_type": "stream",
     "text": [
      "Shape of the image batch tensor: (32, 128, 128, 3)\n"
     ]
    }
   ],
   "source": [
    "import tensorflow as tf\n",
    "\n",
    "# Example: Create a batch of 32 images, each of 128x128 pixels with 3 channels (RGB)\n",
    "batch_size = 32\n",
    "height = 128\n",
    "width = 128\n",
    "channels = 3\n",
    "\n",
    "# Create a random tensor with the shape (batch_size, height, width, channels)\n",
    "images = tf.random.normal((batch_size, height, width, channels))\n",
    "\n",
    "# Print the shape of the tensor\n",
    "print(\"Shape of the image batch tensor:\", images.shape)\n"
   ]
  }
 ],
 "metadata": {
  "kernelspec": {
   "display_name": "myenv",
   "language": "python",
   "name": "python3"
  },
  "language_info": {
   "codemirror_mode": {
    "name": "ipython",
    "version": 3
   },
   "file_extension": ".py",
   "mimetype": "text/x-python",
   "name": "python",
   "nbconvert_exporter": "python",
   "pygments_lexer": "ipython3",
   "version": "3.12.1"
  }
 },
 "nbformat": 4,
 "nbformat_minor": 2
}
